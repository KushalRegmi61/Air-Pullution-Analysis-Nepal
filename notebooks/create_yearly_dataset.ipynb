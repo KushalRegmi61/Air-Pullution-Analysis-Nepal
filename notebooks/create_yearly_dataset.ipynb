{
 "cells": [
  {
   "cell_type": "code",
   "execution_count": 1,
   "metadata": {},
   "outputs": [],
   "source": [
    "import pandas as pd\n",
    "import datetime\n"
   ]
  },
  {
   "cell_type": "markdown",
   "metadata": {},
   "source": [
    "### Main code to convert and create the yearly dataset\n"
   ]
  },
  {
   "cell_type": "code",
   "execution_count": null,
   "metadata": {},
   "outputs": [],
   "source": [
    "\n",
    "\n",
    "# Load the quarterly data\n",
    "\n",
    "q1 = pd.read_csv('../year_2019/waqi-covid19-airqualitydata-2019Q1.csv', skiprows=4)\n",
    "q2 = pd.read_csv('../year_2019/waqi-covid19-airqualitydata-2019Q2.csv', skiprows=4)\n",
    "q3 = pd.read_csv('../year_2019/waqi-covid19-airqualitydata-2019Q3.csv', skiprows=4)\n",
    "q4 = pd.read_csv('../year_2019/waqi-covid19-airqualitydata-2019Q4.csv', skiprows=4)\n",
    "\n",
    "# Combine all quarterly data into a single DataFrame\n",
    "\n",
    "merged_df = pd.concat([q1, q2, q3, q4], ignore_index=True)\n",
    "# merged_df = pd.read_csv('../datafiles/waqi-covid19-airqualitydata-.csv', skiprows=4)\n",
    "\n",
    "# merged_df = pd.read_csv('../waqi-covid19-airqualitydata-2025.csv', skiprows=4)\n",
    "\n",
    "\n",
    "\n",
    "# Convert 'Date' column to datetime\n",
    "merged_df['Date'] = pd.to_datetime(merged_df['Date'])\n",
    "\n",
    "# Filter data for Nepal\n",
    "nepal_df = merged_df[merged_df['Country'] == 'NP']\n",
    "\n",
    "# Get unique cities in Nepal\n",
    "cities = nepal_df['City'].unique()\n",
    "\n",
    "# Define the date range for the entire year \n",
    "date_range = pd.date_range(start=merged_df['Date'].min(), end=merged_df['Date'].max(), freq='D')\n",
    "\n",
    "# Function to process and save city data\n",
    "def process_and_save_city_data(city_df, city_name):\n",
    "    # Pivot the dataframe to create columns for each specie\n",
    "    city_pivot = city_df.pivot_table(index='Date', columns='Specie', values='median', aggfunc='first')\n",
    "    \n",
    "    # Reindex to include all dates in  and fill missing values\n",
    "    city_pivot = city_pivot.reindex(date_range)\n",
    "    \n",
    "    # Reset index to make 'Date' a column\n",
    "    city_pivot.reset_index(inplace=True)\n",
    "    city_pivot.rename(columns={'index': 'Date'}, inplace=True)\n",
    "    \n",
    "    # Save the processed data to a CSV file\n",
    "    city_pivot.to_csv(f'../year_2019/{city_name}_2019.csv', index=False)\n",
    "    \n",
    "    return pd.DataFrame(city_pivot)\n",
    "\n",
    "# Process and save data for each city\n",
    "for city in cities:\n",
    "    city_df = nepal_df[nepal_df['City'] == city]\n",
    "    process_and_save_city_data(city_df, city)\n"
   ]
  }
 ],
 "metadata": {
  "kernelspec": {
   "display_name": ".venv",
   "language": "python",
   "name": "python3"
  },
  "language_info": {
   "codemirror_mode": {
    "name": "ipython",
    "version": 3
   },
   "file_extension": ".py",
   "mimetype": "text/x-python",
   "name": "python",
   "nbconvert_exporter": "python",
   "pygments_lexer": "ipython3",
   "version": "3.13.1"
  }
 },
 "nbformat": 4,
 "nbformat_minor": 2
}
