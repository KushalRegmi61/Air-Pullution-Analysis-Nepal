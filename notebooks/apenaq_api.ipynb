{
 "cells": [
  {
   "cell_type": "code",
   "execution_count": 42,
   "metadata": {},
   "outputs": [],
   "source": [
    "import requests\n",
    "from pprint import pprint\n",
    "import json\n",
    "import pandas as pd\n",
    "\n",
    "API_KEY='5e5cec06054aaa4b312859dd97fb9a94c3211af602e0af17cd8350df3b15dbd1'"
   ]
  },
  {
   "cell_type": "code",
   "execution_count": null,
   "metadata": {},
   "outputs": [
    {
     "data": {
      "text/plain": [
       "{'meta': {'name': 'openaq-api',\n",
       "  'website': '/',\n",
       "  'page': 1,\n",
       "  'limit': 100,\n",
       "  'found': 0},\n",
       " 'results': []}"
      ]
     },
     "execution_count": 235,
     "metadata": {},
     "output_type": "execute_result"
    }
   ],
   "source": [
    "\n",
    "\n",
    "# import requests\n",
    "\n",
    "# Define the API endpoint to find locations in Kathmandu\n",
    "\n",
    "url = \"https://api.openaq.org/v3/locations?coordinates=27.7172,85.3240&radius=12000\"\n",
    "\n",
    " \n",
    "# headers\n",
    "headers = {'X-API-Key': API_KEY}\n",
    "\n",
    "# Define query parameters to get sensor id for Kathmandu\n",
    "# params = {\n",
    "#     \"city\": \"Kathmandu\",\n",
    "#     \"country\": \"NP\",\n",
    "#     \"limit\": 1\n",
    "# }\n",
    "\n",
    "# # Fetch data\n",
    "response = requests.get(url,  headers=headers)\n",
    "if response.status_code == 200:\n",
    "    data = response.json()\n",
    "    for location in data[\"results\"]:\n",
    "        pprint(location)\n",
    "        \n",
    "else:\n",
    "    print(f\"Failed to fetch data: {response}\")\n",
    "\n",
    "\n",
    "# Define the API endpoint to get data for a specific sensor\n",
    "# List of sensor IDs for O₃\n",
    "sensor_ids = [7713, 7712]  # Embassy Kathmandu and US Diplomatic Post: Phora Durbar Kathmandu\n",
    "\n",
    "# # Fetch data for each sensor\n",
    "# for sensor_id in sensor_ids:\n",
    "#     url = f\"https://api.openaq.org/v3/sensors/{sensor_id}/measurements/daily?date_from=2023-01-01&date_to=2023-01-31&limit=1000\"\n",
    "\n",
    "#     response = requests.get(url, headers=headers)\n",
    "#     if response.status_code == 200:\n",
    "#         data = response.json()\n",
    "#         with open(f\"sensor_{sensor_id}_daily_o3.json\", \"w\") as file:\n",
    "#             json.dump(data[\"results\"], file, indent=4)\n",
    "#         print(f\"Data saved for sensor {sensor_id}\")\n",
    "#     else:\n",
    "#         print(f\"Failed to fetch data for sensor {sensor_id}: {response.status_code}\")\n",
    "        \n",
    "# import requests\n",
    "\n"
   ]
  },
  {
   "cell_type": "code",
   "execution_count": 219,
   "metadata": {},
   "outputs": [
    {
     "name": "stdout",
     "output_type": "stream",
     "text": [
      "Total daily measurements fetched: 330\n"
     ]
    }
   ],
   "source": [
    "\n",
    "\n",
    "# Define the sensor ID for O₃ at US Diplomatic Post: Phora Durbar Kathmandu\n",
    "sensor_id = 7712  # Replace with the correct sensor ID for O₃\n",
    "\n",
    "# Define query parameters\n",
    "params = {\n",
    "    \"datetime_from\": \"2020-12-28T00:00:00Z\",  # Start date in ISO 8601 format\n",
    "    \"datetime_to\": \"2022-01-02T23:59:59Z\",  # End date in ISO 8601 format\n",
    "    \"limit\": 1000,  # Number of results per page\n",
    "    \"page\": 1  # Start with page 1\n",
    "}\n",
    "\n",
    "# Define the API endpoint for daily measurements\n",
    "url = f\"https://api.openaq.org/v3/sensors/{sensor_id}/measurements/daily\"\n",
    "\n",
    "\n",
    "# Fetch all pages of data\n",
    "all_results = []  # Store all results here\n",
    "while True:\n",
    "    response = requests.get(url, params=params, headers=headers)\n",
    "    if response.status_code == 200:\n",
    "        data = response.json()\n",
    "        all_results.extend(data[\"results\"])  # Add results to the list\n",
    "\n",
    "        # Check if there are more pages\n",
    "        if data[\"meta\"][\"found\"] <= params[\"page\"] * params[\"limit\"]:\n",
    "            break  # Exit the loop if all data has been fetched\n",
    "\n",
    "        params[\"page\"] += 1  # Move to the next page\n",
    "    else:\n",
    "        print(f\"Failed to fetch data: {response.status_code}\")\n",
    "        print(f\"Response: {response.text}\")  # Print the error response for debugging\n",
    "        break\n",
    "\n",
    "print(f\"Total daily measurements fetched: {len(all_results)}\")"
   ]
  },
  {
   "cell_type": "code",
   "execution_count": 220,
   "metadata": {},
   "outputs": [
    {
     "data": {
      "text/plain": [
       "(datetime.date(2020, 12, 27), datetime.date(2022, 1, 2))"
      ]
     },
     "execution_count": 220,
     "metadata": {},
     "output_type": "execute_result"
    }
   ],
   "source": [
    "\n",
    "# extract the dates\n",
    "dates = [result[\"period\"][\"datetimeFrom\"]['utc'] for result in all_results]\n",
    "\n",
    "\n",
    "len(dates)\n",
    "\n",
    "dates = pd.to_datetime(dates).date # convert to datetime object and extract date\n",
    "\n",
    "dates.min(), dates.max()\n",
    "\n"
   ]
  },
  {
   "cell_type": "code",
   "execution_count": 221,
   "metadata": {},
   "outputs": [],
   "source": [
    "\n",
    "\n",
    "o3_values = [result[\"summary\"][\"median\"] for result in all_results] # extract the median values"
   ]
  },
  {
   "cell_type": "code",
   "execution_count": 222,
   "metadata": {},
   "outputs": [
    {
     "data": {
      "text/plain": [
       "330"
      ]
     },
     "execution_count": 222,
     "metadata": {},
     "output_type": "execute_result"
    }
   ],
   "source": [
    "len(o3_values) # check the length of the values\n",
    "\n"
   ]
  },
  {
   "cell_type": "code",
   "execution_count": 223,
   "metadata": {},
   "outputs": [
    {
     "data": {
      "text/plain": [
       "(329, 2)"
      ]
     },
     "execution_count": 223,
     "metadata": {},
     "output_type": "execute_result"
    }
   ],
   "source": [
    "# create a dataframe containing the dates and O₃ values\n",
    "df = pd.DataFrame({\"Date\": dates[1:], \"o3\": o3_values[1:]})\n",
    "df['o3'] = df['o3'].apply(lambda x: f\"{x:.4f}\")\n",
    "df['Date'] = pd.to_datetime(df['Date']).dt.date\n",
    "df.shape"
   ]
  },
  {
   "cell_type": "code",
   "execution_count": 225,
   "metadata": {},
   "outputs": [
    {
     "data": {
      "text/plain": [
       "(371, 10)"
      ]
     },
     "execution_count": 225,
     "metadata": {},
     "output_type": "execute_result"
    }
   ],
   "source": [
    "dataset = pd.read_csv(\"../year_2021/Kathmandu_2021.csv\")\n",
    "# dataset['o3'] = df['o3'].apply(lambda x: f\"{x:.4f}\")\n",
    "dataset['Date'] = pd.to_datetime(dataset['Date']).dt.date\n",
    "\n",
    "# dropping the last row\n",
    "dataset = dataset.iloc[:,:-1]\n",
    "\n",
    "\n",
    "\n",
    "\n",
    "dataset.shape"
   ]
  },
  {
   "cell_type": "code",
   "execution_count": 226,
   "metadata": {},
   "outputs": [],
   "source": [
    "# Merge the two datasets on the date column\n",
    "merged_df= pd.merge(dataset,df, on=\"Date\", how=\"left\")"
   ]
  },
  {
   "cell_type": "code",
   "execution_count": 227,
   "metadata": {},
   "outputs": [
    {
     "data": {
      "application/vnd.microsoft.datawrangler.viewer.v0+json": {
       "columns": [
        {
         "name": "index",
         "rawType": "int64",
         "type": "integer"
        },
        {
         "name": "Date",
         "rawType": "object",
         "type": "unknown"
        },
        {
         "name": "dew",
         "rawType": "float64",
         "type": "float"
        },
        {
         "name": "humidity",
         "rawType": "float64",
         "type": "float"
        },
        {
         "name": "pm1",
         "rawType": "float64",
         "type": "float"
        },
        {
         "name": "pm10",
         "rawType": "float64",
         "type": "float"
        },
        {
         "name": "pm25",
         "rawType": "float64",
         "type": "float"
        },
        {
         "name": "pressure",
         "rawType": "float64",
         "type": "float"
        },
        {
         "name": "temperature",
         "rawType": "float64",
         "type": "float"
        },
        {
         "name": "wind-gust",
         "rawType": "float64",
         "type": "float"
        },
        {
         "name": "wind-speed",
         "rawType": "float64",
         "type": "float"
        },
        {
         "name": "o3",
         "rawType": "object",
         "type": "unknown"
        }
       ],
       "conversionMethod": "pd.DataFrame",
       "ref": "4927c754-1954-4ae7-848a-4f78937e05de",
       "rows": [
        [
         "176",
         "2021-06-22",
         "21.0",
         "78.1",
         "40.0",
         "22.0",
         "48.0",
         "1011.0",
         "24.3",
         null,
         "1.1",
         null
        ],
        [
         "137",
         "2021-05-14",
         "14.0",
         "72.3",
         "69.0",
         "35.0",
         "75.0",
         "1011.0",
         "20.0",
         null,
         "0.8",
         "0.0430"
        ],
        [
         "359",
         "2021-12-22",
         "4.0",
         "76.2",
         "152.0",
         "64.0",
         "157.0",
         "1018.0",
         "8.8",
         null,
         "0.9",
         null
        ],
        [
         "29",
         "2021-01-26",
         "3.5",
         "72.5",
         null,
         null,
         "172.0",
         "1018.0",
         "7.0",
         null,
         "1.5",
         "0.0050"
        ],
        [
         "312",
         "2021-11-05",
         "11.0",
         "82.2",
         "74.0",
         "29.0",
         "93.0",
         "1018.0",
         "14.6",
         null,
         "0.8",
         "0.0095"
        ]
       ],
       "shape": {
        "columns": 11,
        "rows": 5
       }
      },
      "text/html": [
       "<div>\n",
       "<style scoped>\n",
       "    .dataframe tbody tr th:only-of-type {\n",
       "        vertical-align: middle;\n",
       "    }\n",
       "\n",
       "    .dataframe tbody tr th {\n",
       "        vertical-align: top;\n",
       "    }\n",
       "\n",
       "    .dataframe thead th {\n",
       "        text-align: right;\n",
       "    }\n",
       "</style>\n",
       "<table border=\"1\" class=\"dataframe\">\n",
       "  <thead>\n",
       "    <tr style=\"text-align: right;\">\n",
       "      <th></th>\n",
       "      <th>Date</th>\n",
       "      <th>dew</th>\n",
       "      <th>humidity</th>\n",
       "      <th>pm1</th>\n",
       "      <th>pm10</th>\n",
       "      <th>pm25</th>\n",
       "      <th>pressure</th>\n",
       "      <th>temperature</th>\n",
       "      <th>wind-gust</th>\n",
       "      <th>wind-speed</th>\n",
       "      <th>o3</th>\n",
       "    </tr>\n",
       "  </thead>\n",
       "  <tbody>\n",
       "    <tr>\n",
       "      <th>176</th>\n",
       "      <td>2021-06-22</td>\n",
       "      <td>21.0</td>\n",
       "      <td>78.1</td>\n",
       "      <td>40.0</td>\n",
       "      <td>22.0</td>\n",
       "      <td>48.0</td>\n",
       "      <td>1011.0</td>\n",
       "      <td>24.3</td>\n",
       "      <td>NaN</td>\n",
       "      <td>1.1</td>\n",
       "      <td>NaN</td>\n",
       "    </tr>\n",
       "    <tr>\n",
       "      <th>137</th>\n",
       "      <td>2021-05-14</td>\n",
       "      <td>14.0</td>\n",
       "      <td>72.3</td>\n",
       "      <td>69.0</td>\n",
       "      <td>35.0</td>\n",
       "      <td>75.0</td>\n",
       "      <td>1011.0</td>\n",
       "      <td>20.0</td>\n",
       "      <td>NaN</td>\n",
       "      <td>0.8</td>\n",
       "      <td>0.0430</td>\n",
       "    </tr>\n",
       "    <tr>\n",
       "      <th>359</th>\n",
       "      <td>2021-12-22</td>\n",
       "      <td>4.0</td>\n",
       "      <td>76.2</td>\n",
       "      <td>152.0</td>\n",
       "      <td>64.0</td>\n",
       "      <td>157.0</td>\n",
       "      <td>1018.0</td>\n",
       "      <td>8.8</td>\n",
       "      <td>NaN</td>\n",
       "      <td>0.9</td>\n",
       "      <td>NaN</td>\n",
       "    </tr>\n",
       "    <tr>\n",
       "      <th>29</th>\n",
       "      <td>2021-01-26</td>\n",
       "      <td>3.5</td>\n",
       "      <td>72.5</td>\n",
       "      <td>NaN</td>\n",
       "      <td>NaN</td>\n",
       "      <td>172.0</td>\n",
       "      <td>1018.0</td>\n",
       "      <td>7.0</td>\n",
       "      <td>NaN</td>\n",
       "      <td>1.5</td>\n",
       "      <td>0.0050</td>\n",
       "    </tr>\n",
       "    <tr>\n",
       "      <th>312</th>\n",
       "      <td>2021-11-05</td>\n",
       "      <td>11.0</td>\n",
       "      <td>82.2</td>\n",
       "      <td>74.0</td>\n",
       "      <td>29.0</td>\n",
       "      <td>93.0</td>\n",
       "      <td>1018.0</td>\n",
       "      <td>14.6</td>\n",
       "      <td>NaN</td>\n",
       "      <td>0.8</td>\n",
       "      <td>0.0095</td>\n",
       "    </tr>\n",
       "  </tbody>\n",
       "</table>\n",
       "</div>"
      ],
      "text/plain": [
       "           Date   dew  humidity    pm1  pm10   pm25  pressure  temperature  \\\n",
       "176  2021-06-22  21.0      78.1   40.0  22.0   48.0    1011.0         24.3   \n",
       "137  2021-05-14  14.0      72.3   69.0  35.0   75.0    1011.0         20.0   \n",
       "359  2021-12-22   4.0      76.2  152.0  64.0  157.0    1018.0          8.8   \n",
       "29   2021-01-26   3.5      72.5    NaN   NaN  172.0    1018.0          7.0   \n",
       "312  2021-11-05  11.0      82.2   74.0  29.0   93.0    1018.0         14.6   \n",
       "\n",
       "     wind-gust  wind-speed      o3  \n",
       "176        NaN         1.1     NaN  \n",
       "137        NaN         0.8  0.0430  \n",
       "359        NaN         0.9     NaN  \n",
       "29         NaN         1.5  0.0050  \n",
       "312        NaN         0.8  0.0095  "
      ]
     },
     "execution_count": 227,
     "metadata": {},
     "output_type": "execute_result"
    }
   ],
   "source": [
    "merged_df.sample(5)"
   ]
  },
  {
   "cell_type": "code",
   "execution_count": 229,
   "metadata": {},
   "outputs": [],
   "source": [
    "# convert the merged dataset to a csv file\n",
    "merged_df.to_csv(\"../year_2021/Kathmandu_2021.csv\", index=False)"
   ]
  },
  {
   "cell_type": "code",
   "execution_count": 240,
   "metadata": {},
   "outputs": [],
   "source": [
    "import requests\n",
    "\n",
    "# Define the coordinates for Pokhara, Nepal\n",
    "latitude = 26.4525 \n",
    "longitude = 87.2718\n",
    "radius = 12000  # Radius in meters (e.g., 12 km)\n",
    "\n",
    "# Define the API endpoint for locations\n",
    "url = \"https://api.openaq.org/v3/locations\"\n",
    "\n",
    "# Define query parameters\n",
    "params = {\n",
    "    \"coordinates\": f\"{latitude},{longitude}\",\n",
    "    \"radius\": radius,\n",
    "    \"limit\": 1000  # Number of results per page\n",
    "}\n",
    "\n",
    "# Make a GET request to the API\n",
    "response = requests.get(url, params=params, headers=headers)\n",
    "\n",
    "# Check if the request was successful\n",
    "if response.status_code == 200:\n",
    "    # Parse the JSON response\n",
    "    data = response.json()\n",
    "\n",
    "    # Extract the required fields\n",
    "    locations = data[\"results\"]\n",
    "    for location in locations:\n",
    "        print(f\"Location: {location['name']}\")\n",
    "        print(f\"ID: {location['id']}\")\n",
    "        print(f\"Coordinates: {location['coordinates']}\")\n",
    "        print(f\"Sensors: {location['sensors']}\")\n",
    "        print(\"-\" * 40)\n",
    "else:\n",
    "    print(f\"Failed to fetch data: {response.status_code}\")\n",
    "    print(f\"Response: {response.text}\")  # Print the error response for debugging\n",
    "    \n",
    "    "
   ]
  },
  {
   "cell_type": "code",
   "execution_count": 241,
   "metadata": {},
   "outputs": [
    {
     "data": {
      "text/plain": [
       "{'meta': {'name': 'openaq-api',\n",
       "  'website': '/',\n",
       "  'page': 1,\n",
       "  'limit': 1000,\n",
       "  'found': 0},\n",
       " 'results': []}"
      ]
     },
     "execution_count": 241,
     "metadata": {},
     "output_type": "execute_result"
    }
   ],
   "source": [
    "data"
   ]
  }
 ],
 "metadata": {
  "kernelspec": {
   "display_name": ".venv",
   "language": "python",
   "name": "python3"
  },
  "language_info": {
   "codemirror_mode": {
    "name": "ipython",
    "version": 3
   },
   "file_extension": ".py",
   "mimetype": "text/x-python",
   "name": "python",
   "nbconvert_exporter": "python",
   "pygments_lexer": "ipython3",
   "version": "3.13.1"
  }
 },
 "nbformat": 4,
 "nbformat_minor": 2
}
