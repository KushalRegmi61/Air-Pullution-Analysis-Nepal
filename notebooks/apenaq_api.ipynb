{
 "cells": [
  {
   "cell_type": "code",
   "execution_count": 42,
   "metadata": {},
   "outputs": [],
   "source": [
    "import requests\n",
    "from pprint import pprint\n",
    "import json\n",
    "import pandas as pd\n",
    "\n",
    "API_KEY='5e5cec06054aaa4b312859dd97fb9a94c3211af602e0af17cd8350df3b15dbd1'"
   ]
  },
  {
   "cell_type": "code",
   "execution_count": null,
   "metadata": {},
   "outputs": [],
   "source": [
    "\n",
    "\n",
    "# import requests\n",
    "\n",
    "# Define the API endpoint to find locations in Kathmandu\n",
    "\n",
    "url = \"https://api.openaq.org/v3/locations?coordinates=27.7172,85.3240&radius=12000\"\n",
    "\n",
    " \n",
    "# headers\n",
    "headers = {'X-API-Key': API_KEY}\n",
    "\n",
    "# Define query parameters to get sensor id for Kathmandu\n",
    "# params = {\n",
    "#     \"city\": \"Kathmandu\",\n",
    "#     \"country\": \"NP\",\n",
    "#     \"limit\": 1\n",
    "# }\n",
    "\n",
    "# # Fetch data\n",
    "response = requests.get(url,  headers=headers)\n",
    "if response.status_code == 200:\n",
    "    data = response.json()\n",
    "    for location in data[\"results\"]:\n",
    "        pprint(location)\n",
    "        \n",
    "else:\n",
    "    print(f\"Failed to fetch data: {response}\")\n",
    "\n",
    "\n",
    "# Define the API endpoint to get data for a specific sensor\n",
    "# List of sensor IDs for O₃\n",
    "sensor_ids = [7713, 7712]  # Embassy Kathmandu and US Diplomatic Post: Phora Durbar Kathmandu\n",
    "\n",
    "# # Fetch data for each sensor\n",
    "# for sensor_id in sensor_ids:\n",
    "#     url = f\"https://api.openaq.org/v3/sensors/{sensor_id}/measurements/daily?date_from=2023-01-01&date_to=2023-01-31&limit=1000\"\n",
    "\n",
    "#     response = requests.get(url, headers=headers)\n",
    "#     if response.status_code == 200:\n",
    "#         data = response.json()\n",
    "#         with open(f\"sensor_{sensor_id}_daily_o3.json\", \"w\") as file:\n",
    "#             json.dump(data[\"results\"], file, indent=4)\n",
    "#         print(f\"Data saved for sensor {sensor_id}\")\n",
    "#     else:\n",
    "#         print(f\"Failed to fetch data for sensor {sensor_id}: {response.status_code}\")\n",
    "        \n",
    "# import requests\n",
    "\n"
   ]
  },
  {
   "cell_type": "code",
   "execution_count": 210,
   "metadata": {},
   "outputs": [
    {
     "name": "stdout",
     "output_type": "stream",
     "text": [
      "Total daily measurements fetched: 422\n"
     ]
    }
   ],
   "source": [
    "\n",
    "\n",
    "# Define the sensor ID for O₃ at US Diplomatic Post: Phora Durbar Kathmandu\n",
    "sensor_id = 7712  # Replace with the correct sensor ID for O₃\n",
    "\n",
    "# Define query parameters\n",
    "params = {\n",
    "    \"datetime_from\": \"2024-01-01T00:00:00Z\",  # Start date in ISO 8601 format\n",
    "    \"datetime_to\": \"2025-02-24T23:59:59Z\",  # End date in ISO 8601 format\n",
    "    \"limit\": 1000,  # Number of results per page\n",
    "    \"page\": 1  # Start with page 1\n",
    "}\n",
    "\n",
    "# Define the API endpoint for daily measurements\n",
    "url = f\"https://api.openaq.org/v3/sensors/{sensor_id}/measurements/daily\"\n",
    "\n",
    "\n",
    "# Fetch all pages of data\n",
    "all_results = []  # Store all results here\n",
    "while True:\n",
    "    response = requests.get(url, params=params, headers=headers)\n",
    "    if response.status_code == 200:\n",
    "        data = response.json()\n",
    "        all_results.extend(data[\"results\"])  # Add results to the list\n",
    "\n",
    "        # Check if there are more pages\n",
    "        if data[\"meta\"][\"found\"] <= params[\"page\"] * params[\"limit\"]:\n",
    "            break  # Exit the loop if all data has been fetched\n",
    "\n",
    "        params[\"page\"] += 1  # Move to the next page\n",
    "    else:\n",
    "        print(f\"Failed to fetch data: {response.status_code}\")\n",
    "        print(f\"Response: {response.text}\")  # Print the error response for debugging\n",
    "        break\n",
    "\n",
    "print(f\"Total daily measurements fetched: {len(all_results)}\")"
   ]
  },
  {
   "cell_type": "code",
   "execution_count": 211,
   "metadata": {},
   "outputs": [
    {
     "data": {
      "text/plain": [
       "(datetime.date(2023, 12, 31), datetime.date(2025, 2, 24))"
      ]
     },
     "execution_count": 211,
     "metadata": {},
     "output_type": "execute_result"
    }
   ],
   "source": [
    "\n",
    "# extract the dates\n",
    "dates = [result[\"period\"][\"datetimeFrom\"]['utc'] for result in all_results]\n",
    "\n",
    "\n",
    "len(dates)\n",
    "\n",
    "dates = pd.to_datetime(dates).date # convert to datetime object and extract date\n",
    "\n",
    "dates.min(), dates.max()\n",
    "\n"
   ]
  },
  {
   "cell_type": "code",
   "execution_count": 212,
   "metadata": {},
   "outputs": [],
   "source": [
    "\n",
    "\n",
    "o3_values = [result[\"summary\"][\"median\"] for result in all_results] # extract the median values"
   ]
  },
  {
   "cell_type": "code",
   "execution_count": 213,
   "metadata": {},
   "outputs": [
    {
     "data": {
      "text/plain": [
       "422"
      ]
     },
     "execution_count": 213,
     "metadata": {},
     "output_type": "execute_result"
    }
   ],
   "source": [
    "len(o3_values) # check the length of the values\n",
    "\n"
   ]
  },
  {
   "cell_type": "code",
   "execution_count": 214,
   "metadata": {},
   "outputs": [
    {
     "data": {
      "text/plain": [
       "(421, 2)"
      ]
     },
     "execution_count": 214,
     "metadata": {},
     "output_type": "execute_result"
    }
   ],
   "source": [
    "# create a dataframe containing the dates and O₃ values\n",
    "df = pd.DataFrame({\"Date\": dates[1:], \"o3\": o3_values[1:]})\n",
    "df['o3'] = df['o3'].apply(lambda x: f\"{x:.4f}\")\n",
    "df['Date'] = pd.to_datetime(df['Date']).dt.date\n",
    "df.shape"
   ]
  },
  {
   "cell_type": "code",
   "execution_count": 215,
   "metadata": {},
   "outputs": [
    {
     "data": {
      "text/plain": [
       "(421, 10)"
      ]
     },
     "execution_count": 215,
     "metadata": {},
     "output_type": "execute_result"
    }
   ],
   "source": [
    "dataset = pd.read_csv(\"../year_2024/Kathmandu_2024.csv\")\n",
    "# dataset['o3'] = df['o3'].apply(lambda x: f\"{x:.4f}\")\n",
    "dataset['Date'] = pd.to_datetime(dataset['Date']).dt.date\n",
    "\n",
    "# dropping the last row\n",
    "dataset = dataset.iloc[:,:-1]\n",
    "\n",
    "\n",
    "\n",
    "\n",
    "dataset.shape"
   ]
  },
  {
   "cell_type": "code",
   "execution_count": 216,
   "metadata": {},
   "outputs": [],
   "source": [
    "# Merge the two datasets on the date column\n",
    "merged_df= pd.merge(dataset,df, on=\"Date\", how=\"left\")"
   ]
  },
  {
   "cell_type": "code",
   "execution_count": 217,
   "metadata": {},
   "outputs": [
    {
     "data": {
      "application/vnd.microsoft.datawrangler.viewer.v0+json": {
       "columns": [
        {
         "name": "index",
         "rawType": "int64",
         "type": "integer"
        },
        {
         "name": "Date",
         "rawType": "object",
         "type": "unknown"
        },
        {
         "name": "dew",
         "rawType": "float64",
         "type": "float"
        },
        {
         "name": "humidity",
         "rawType": "float64",
         "type": "float"
        },
        {
         "name": "pm1",
         "rawType": "float64",
         "type": "float"
        },
        {
         "name": "pm10",
         "rawType": "float64",
         "type": "float"
        },
        {
         "name": "pm25",
         "rawType": "float64",
         "type": "float"
        },
        {
         "name": "pressure",
         "rawType": "float64",
         "type": "float"
        },
        {
         "name": "temperature",
         "rawType": "float64",
         "type": "float"
        },
        {
         "name": "wind-gust",
         "rawType": "float64",
         "type": "float"
        },
        {
         "name": "wind-speed",
         "rawType": "float64",
         "type": "float"
        },
        {
         "name": "o3",
         "rawType": "object",
         "type": "string"
        }
       ],
       "conversionMethod": "pd.DataFrame",
       "ref": "b15220db-e14d-4562-9952-83fc83d998fb",
       "rows": [
        [
         "144",
         "2024-05-24",
         "18.5",
         "75.5",
         "79.0",
         "62.0",
         "109.0",
         "1013.0",
         "23.5",
         null,
         "1.1",
         "-0.9990"
        ],
        [
         "410",
         "2025-02-14",
         "7.5",
         "78.5",
         "166.0",
         "98.0",
         "174.0",
         "1013.0",
         "11.0",
         null,
         "1.5",
         "-0.9990"
        ],
        [
         "190",
         "2024-07-09",
         "22.0",
         "89.5",
         null,
         "35.0",
         "85.0",
         "1012.0",
         "23.9",
         null,
         "1.1",
         "-0.9990"
        ],
        [
         "409",
         "2025-02-13",
         "5.0",
         "73.5",
         "151.0",
         "92.0",
         "166.0",
         "1014.5",
         "12.0",
         null,
         "1.5",
         "-0.9990"
        ],
        [
         "191",
         "2024-07-10",
         "22.0",
         "95.2",
         null,
         "25.0",
         "70.0",
         "1013.0",
         "23.0",
         null,
         "1.2",
         "-0.5010"
        ]
       ],
       "shape": {
        "columns": 11,
        "rows": 5
       }
      },
      "text/html": [
       "<div>\n",
       "<style scoped>\n",
       "    .dataframe tbody tr th:only-of-type {\n",
       "        vertical-align: middle;\n",
       "    }\n",
       "\n",
       "    .dataframe tbody tr th {\n",
       "        vertical-align: top;\n",
       "    }\n",
       "\n",
       "    .dataframe thead th {\n",
       "        text-align: right;\n",
       "    }\n",
       "</style>\n",
       "<table border=\"1\" class=\"dataframe\">\n",
       "  <thead>\n",
       "    <tr style=\"text-align: right;\">\n",
       "      <th></th>\n",
       "      <th>Date</th>\n",
       "      <th>dew</th>\n",
       "      <th>humidity</th>\n",
       "      <th>pm1</th>\n",
       "      <th>pm10</th>\n",
       "      <th>pm25</th>\n",
       "      <th>pressure</th>\n",
       "      <th>temperature</th>\n",
       "      <th>wind-gust</th>\n",
       "      <th>wind-speed</th>\n",
       "      <th>o3</th>\n",
       "    </tr>\n",
       "  </thead>\n",
       "  <tbody>\n",
       "    <tr>\n",
       "      <th>144</th>\n",
       "      <td>2024-05-24</td>\n",
       "      <td>18.5</td>\n",
       "      <td>75.5</td>\n",
       "      <td>79.0</td>\n",
       "      <td>62.0</td>\n",
       "      <td>109.0</td>\n",
       "      <td>1013.0</td>\n",
       "      <td>23.5</td>\n",
       "      <td>NaN</td>\n",
       "      <td>1.1</td>\n",
       "      <td>-0.9990</td>\n",
       "    </tr>\n",
       "    <tr>\n",
       "      <th>410</th>\n",
       "      <td>2025-02-14</td>\n",
       "      <td>7.5</td>\n",
       "      <td>78.5</td>\n",
       "      <td>166.0</td>\n",
       "      <td>98.0</td>\n",
       "      <td>174.0</td>\n",
       "      <td>1013.0</td>\n",
       "      <td>11.0</td>\n",
       "      <td>NaN</td>\n",
       "      <td>1.5</td>\n",
       "      <td>-0.9990</td>\n",
       "    </tr>\n",
       "    <tr>\n",
       "      <th>190</th>\n",
       "      <td>2024-07-09</td>\n",
       "      <td>22.0</td>\n",
       "      <td>89.5</td>\n",
       "      <td>NaN</td>\n",
       "      <td>35.0</td>\n",
       "      <td>85.0</td>\n",
       "      <td>1012.0</td>\n",
       "      <td>23.9</td>\n",
       "      <td>NaN</td>\n",
       "      <td>1.1</td>\n",
       "      <td>-0.9990</td>\n",
       "    </tr>\n",
       "    <tr>\n",
       "      <th>409</th>\n",
       "      <td>2025-02-13</td>\n",
       "      <td>5.0</td>\n",
       "      <td>73.5</td>\n",
       "      <td>151.0</td>\n",
       "      <td>92.0</td>\n",
       "      <td>166.0</td>\n",
       "      <td>1014.5</td>\n",
       "      <td>12.0</td>\n",
       "      <td>NaN</td>\n",
       "      <td>1.5</td>\n",
       "      <td>-0.9990</td>\n",
       "    </tr>\n",
       "    <tr>\n",
       "      <th>191</th>\n",
       "      <td>2024-07-10</td>\n",
       "      <td>22.0</td>\n",
       "      <td>95.2</td>\n",
       "      <td>NaN</td>\n",
       "      <td>25.0</td>\n",
       "      <td>70.0</td>\n",
       "      <td>1013.0</td>\n",
       "      <td>23.0</td>\n",
       "      <td>NaN</td>\n",
       "      <td>1.2</td>\n",
       "      <td>-0.5010</td>\n",
       "    </tr>\n",
       "  </tbody>\n",
       "</table>\n",
       "</div>"
      ],
      "text/plain": [
       "           Date   dew  humidity    pm1  pm10   pm25  pressure  temperature  \\\n",
       "144  2024-05-24  18.5      75.5   79.0  62.0  109.0    1013.0         23.5   \n",
       "410  2025-02-14   7.5      78.5  166.0  98.0  174.0    1013.0         11.0   \n",
       "190  2024-07-09  22.0      89.5    NaN  35.0   85.0    1012.0         23.9   \n",
       "409  2025-02-13   5.0      73.5  151.0  92.0  166.0    1014.5         12.0   \n",
       "191  2024-07-10  22.0      95.2    NaN  25.0   70.0    1013.0         23.0   \n",
       "\n",
       "     wind-gust  wind-speed       o3  \n",
       "144        NaN         1.1  -0.9990  \n",
       "410        NaN         1.5  -0.9990  \n",
       "190        NaN         1.1  -0.9990  \n",
       "409        NaN         1.5  -0.9990  \n",
       "191        NaN         1.2  -0.5010  "
      ]
     },
     "execution_count": 217,
     "metadata": {},
     "output_type": "execute_result"
    }
   ],
   "source": [
    "merged_df.sample(5)"
   ]
  },
  {
   "cell_type": "code",
   "execution_count": null,
   "metadata": {},
   "outputs": [],
   "source": [
    "# convert the merged dataset to a csv file\n",
    "merged_df.to_csv(\"../year_2024/Kathmandu_2024.csv\", index=False)"
   ]
  }
 ],
 "metadata": {
  "kernelspec": {
   "display_name": ".venv",
   "language": "python",
   "name": "python3"
  },
  "language_info": {
   "codemirror_mode": {
    "name": "ipython",
    "version": 3
   },
   "file_extension": ".py",
   "mimetype": "text/x-python",
   "name": "python",
   "nbconvert_exporter": "python",
   "pygments_lexer": "ipython3",
   "version": "3.13.1"
  }
 },
 "nbformat": 4,
 "nbformat_minor": 2
}
