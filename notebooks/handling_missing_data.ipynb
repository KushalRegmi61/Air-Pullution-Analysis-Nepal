{
 "cells": [
  {
   "cell_type": "code",
   "execution_count": 1,
   "metadata": {},
   "outputs": [],
   "source": [
    "import pandas as pd\n",
    "import numpy as np\n",
    "import matplotlib.pyplot as plt\n",
    "import seaborn as sns\n"
   ]
  },
  {
   "cell_type": "code",
   "execution_count": null,
   "metadata": {},
   "outputs": [],
   "source": [
    "df = pd.read_csv('../year_2024_2025/Kathmandu_2024_2025.csv')\n",
    "\n",
    "\n",
    "df.drop(columns=['wind-gust'], inplace=True)\n",
    "\n",
    "\n",
    "df.to_csv('../year_2024_2025/Kathmandu_2024_2025.csv', index=False)"
   ]
  },
  {
   "cell_type": "markdown",
   "metadata": {},
   "source": [
    "### dropping the wind-gust columns from all the datasets"
   ]
  },
  {
   "cell_type": "code",
   "execution_count": 8,
   "metadata": {},
   "outputs": [],
   "source": [
    "# dropping the wind-gust columns from all the databases\n",
    "def drop_wind_gust(dfs):\n",
    "    for df in dfs:\n",
    "        df.drop(columns=['wind-gust'], inplace=True)\n",
    "    return dfs\n"
   ]
  },
  {
   "cell_type": "code",
   "execution_count": 9,
   "metadata": {},
   "outputs": [],
   "source": [
    "ktm_df =[]\n",
    "# reading all the Kathmandu databases\n",
    "for i in range(2021, 2025):\n",
    "    ktm_df.append(pd.read_csv(f'../year_{i}/Kathmandu_{i}.csv'))\n",
    "    \n",
    "# ktm_df = drop_wind_gust(ktm_df)"
   ]
  },
  {
   "cell_type": "code",
   "execution_count": 10,
   "metadata": {},
   "outputs": [],
   "source": [
    "# # saving the cleaned data\n",
    "\n",
    "# for i in range(2021, 2025):\n",
    "#     ktm_df[i-2021].to_csv(f'../year_{i}/Kathmandu_{i}.csv', index=False)"
   ]
  },
  {
   "cell_type": "code",
   "execution_count": 21,
   "metadata": {},
   "outputs": [
    {
     "name": "stdout",
     "output_type": "stream",
     "text": [
      "(421, 9)\n"
     ]
    },
    {
     "data": {
      "text/plain": [
       "Date            0.000000\n",
       "dew             0.000000\n",
       "humidity        0.000000\n",
       "pm1            51.306413\n",
       "pm10            2.137767\n",
       "pm25            0.000000\n",
       "pressure        0.000000\n",
       "temperature     0.000000\n",
       "wind-speed      0.000000\n",
       "dtype: float64"
      ]
     },
     "execution_count": 21,
     "metadata": {},
     "output_type": "execute_result"
    }
   ],
   "source": [
    "# missing value for year 2024\n",
    "print(ktm_df[3].shape)\n",
    "\n",
    "ktm_df[3].isnull().sum() / ktm_df[3].shape[0] * 100"
   ]
  },
  {
   "cell_type": "code",
   "execution_count": 20,
   "metadata": {},
   "outputs": [
    {
     "name": "stdout",
     "output_type": "stream",
     "text": [
      "(371, 9)\n"
     ]
    },
    {
     "data": {
      "text/plain": [
       "Date            0.000000\n",
       "dew            47.708895\n",
       "humidity       22.641509\n",
       "pm1            31.536388\n",
       "pm10           30.997305\n",
       "pm25           22.641509\n",
       "pressure       22.641509\n",
       "temperature    22.641509\n",
       "wind-speed     22.641509\n",
       "dtype: float64"
      ]
     },
     "execution_count": 20,
     "metadata": {},
     "output_type": "execute_result"
    }
   ],
   "source": [
    "# missing value for year 2023\n",
    "print(ktm_df[2].shape)\n",
    "\n",
    "ktm_df[2].isnull().sum() / ktm_df[2].shape[0] * 100"
   ]
  },
  {
   "cell_type": "code",
   "execution_count": 13,
   "metadata": {},
   "outputs": [
    {
     "data": {
      "text/plain": [
       "('2022-12-26', '2023-12-31')"
      ]
     },
     "execution_count": 13,
     "metadata": {},
     "output_type": "execute_result"
    }
   ],
   "source": [
    "ktm_df[2].Date.min(), ktm_df[2].Date.max()"
   ]
  },
  {
   "cell_type": "code",
   "execution_count": 19,
   "metadata": {},
   "outputs": [
    {
     "name": "stdout",
     "output_type": "stream",
     "text": [
      "(280, 9)\n"
     ]
    },
    {
     "data": {
      "text/plain": [
       "Date            0.000000\n",
       "dew             0.000000\n",
       "humidity        0.000000\n",
       "pm1            38.571429\n",
       "pm10           34.642857\n",
       "pm25            0.000000\n",
       "pressure        0.000000\n",
       "temperature     0.000000\n",
       "wind-speed      0.000000\n",
       "dtype: float64"
      ]
     },
     "execution_count": 19,
     "metadata": {},
     "output_type": "execute_result"
    }
   ],
   "source": [
    "# missing value for year 2022\n",
    "print(ktm_df[1].shape)\n",
    "\n",
    "ktm_df[1].isnull().sum()/ktm_df[1].shape[0] *100\n",
    "\n",
    "# no data in first 3 months of 2022"
   ]
  },
  {
   "cell_type": "code",
   "execution_count": 22,
   "metadata": {},
   "outputs": [
    {
     "name": "stdout",
     "output_type": "stream",
     "text": [
      "(371, 9)\n"
     ]
    },
    {
     "data": {
      "text/plain": [
       "Date            0.000000\n",
       "dew             0.808625\n",
       "humidity        0.808625\n",
       "pm1            18.598383\n",
       "pm10           18.598383\n",
       "pm25            0.000000\n",
       "pressure        0.808625\n",
       "temperature     0.808625\n",
       "wind-speed      0.808625\n",
       "dtype: float64"
      ]
     },
     "execution_count": 22,
     "metadata": {},
     "output_type": "execute_result"
    }
   ],
   "source": [
    "# missing value for year 2021\n",
    "print(ktm_df[0].shape)\n",
    "ktm_df[0].isnull().sum() / ktm_df[0].shape[0] * 100"
   ]
  },
  {
   "cell_type": "code",
   "execution_count": 26,
   "metadata": {},
   "outputs": [
    {
     "name": "stdout",
     "output_type": "stream",
     "text": [
      "Year 2021: 0 rows i.e 0.0 with all values missing in subset columns\n",
      "Year 2022: 0 rows i.e 0.0 with all values missing in subset columns\n",
      "Year 2023: 84 rows i.e 22.641509433962266 with all values missing in subset columns\n",
      "Year 2024: 0 rows i.e 0.0 with all values missing in subset columns\n"
     ]
    }
   ],
   "source": [
    "subset_cols = ['dew', 'humidity', 'pm1', 'pm10', 'pm25', 'pressure','temperature', 'wind-speed']\n",
    "for i, df in enumerate(ktm_df, start=2021):\n",
    "    missing_rows = df[subset_cols].isnull().all(axis=1).sum()\n",
    "    print(f\"Year {i}: {missing_rows} rows i.e {missing_rows/df.shape[0] * 100} with all values missing in subset columns\")\n"
   ]
  },
  {
   "cell_type": "code",
   "execution_count": 17,
   "metadata": {},
   "outputs": [
    {
     "data": {
      "application/vnd.microsoft.datawrangler.viewer.v0+json": {
       "columns": [
        {
         "name": "index",
         "rawType": "int64",
         "type": "integer"
        },
        {
         "name": "Date",
         "rawType": "object",
         "type": "string"
        },
        {
         "name": "dew",
         "rawType": "float64",
         "type": "float"
        },
        {
         "name": "humidity",
         "rawType": "float64",
         "type": "float"
        },
        {
         "name": "pm1",
         "rawType": "float64",
         "type": "float"
        },
        {
         "name": "pm10",
         "rawType": "float64",
         "type": "float"
        },
        {
         "name": "pm25",
         "rawType": "float64",
         "type": "float"
        },
        {
         "name": "pressure",
         "rawType": "float64",
         "type": "float"
        },
        {
         "name": "temperature",
         "rawType": "float64",
         "type": "float"
        },
        {
         "name": "wind-speed",
         "rawType": "float64",
         "type": "float"
        }
       ],
       "conversionMethod": "pd.DataFrame",
       "ref": "18559af9-7006-4890-84b6-297dfcfe1fd7",
       "rows": [
        [
         "0",
         "2020-12-28",
         "4.0",
         "75.0",
         null,
         null,
         "161.0",
         "1017.0",
         "7.0",
         "1.5"
        ],
        [
         "1",
         "2020-12-29",
         "3.0",
         "75.5",
         null,
         null,
         "163.0",
         "1018.0",
         "8.0",
         "1.5"
        ],
        [
         "2",
         "2020-12-30",
         "3.0",
         "74.6",
         "156.0",
         "87.0",
         "162.0",
         "1019.5",
         "8.5",
         "1.0"
        ],
        [
         "3",
         "2020-12-31",
         "3.0",
         "72.5",
         null,
         null,
         "176.0",
         "1019.5",
         "7.0",
         "1.5"
        ],
        [
         "4",
         "2021-01-01",
         "3.0",
         "68.5",
         "164.0",
         "104.0",
         "178.0",
         "1020.0",
         "10.5",
         "1.0"
        ]
       ],
       "shape": {
        "columns": 9,
        "rows": 5
       }
      },
      "text/html": [
       "<div>\n",
       "<style scoped>\n",
       "    .dataframe tbody tr th:only-of-type {\n",
       "        vertical-align: middle;\n",
       "    }\n",
       "\n",
       "    .dataframe tbody tr th {\n",
       "        vertical-align: top;\n",
       "    }\n",
       "\n",
       "    .dataframe thead th {\n",
       "        text-align: right;\n",
       "    }\n",
       "</style>\n",
       "<table border=\"1\" class=\"dataframe\">\n",
       "  <thead>\n",
       "    <tr style=\"text-align: right;\">\n",
       "      <th></th>\n",
       "      <th>Date</th>\n",
       "      <th>dew</th>\n",
       "      <th>humidity</th>\n",
       "      <th>pm1</th>\n",
       "      <th>pm10</th>\n",
       "      <th>pm25</th>\n",
       "      <th>pressure</th>\n",
       "      <th>temperature</th>\n",
       "      <th>wind-speed</th>\n",
       "    </tr>\n",
       "  </thead>\n",
       "  <tbody>\n",
       "    <tr>\n",
       "      <th>0</th>\n",
       "      <td>2020-12-28</td>\n",
       "      <td>4.0</td>\n",
       "      <td>75.0</td>\n",
       "      <td>NaN</td>\n",
       "      <td>NaN</td>\n",
       "      <td>161.0</td>\n",
       "      <td>1017.0</td>\n",
       "      <td>7.0</td>\n",
       "      <td>1.5</td>\n",
       "    </tr>\n",
       "    <tr>\n",
       "      <th>1</th>\n",
       "      <td>2020-12-29</td>\n",
       "      <td>3.0</td>\n",
       "      <td>75.5</td>\n",
       "      <td>NaN</td>\n",
       "      <td>NaN</td>\n",
       "      <td>163.0</td>\n",
       "      <td>1018.0</td>\n",
       "      <td>8.0</td>\n",
       "      <td>1.5</td>\n",
       "    </tr>\n",
       "    <tr>\n",
       "      <th>2</th>\n",
       "      <td>2020-12-30</td>\n",
       "      <td>3.0</td>\n",
       "      <td>74.6</td>\n",
       "      <td>156.0</td>\n",
       "      <td>87.0</td>\n",
       "      <td>162.0</td>\n",
       "      <td>1019.5</td>\n",
       "      <td>8.5</td>\n",
       "      <td>1.0</td>\n",
       "    </tr>\n",
       "    <tr>\n",
       "      <th>3</th>\n",
       "      <td>2020-12-31</td>\n",
       "      <td>3.0</td>\n",
       "      <td>72.5</td>\n",
       "      <td>NaN</td>\n",
       "      <td>NaN</td>\n",
       "      <td>176.0</td>\n",
       "      <td>1019.5</td>\n",
       "      <td>7.0</td>\n",
       "      <td>1.5</td>\n",
       "    </tr>\n",
       "    <tr>\n",
       "      <th>4</th>\n",
       "      <td>2021-01-01</td>\n",
       "      <td>3.0</td>\n",
       "      <td>68.5</td>\n",
       "      <td>164.0</td>\n",
       "      <td>104.0</td>\n",
       "      <td>178.0</td>\n",
       "      <td>1020.0</td>\n",
       "      <td>10.5</td>\n",
       "      <td>1.0</td>\n",
       "    </tr>\n",
       "  </tbody>\n",
       "</table>\n",
       "</div>"
      ],
      "text/plain": [
       "         Date  dew  humidity    pm1   pm10   pm25  pressure  temperature  \\\n",
       "0  2020-12-28  4.0      75.0    NaN    NaN  161.0    1017.0          7.0   \n",
       "1  2020-12-29  3.0      75.5    NaN    NaN  163.0    1018.0          8.0   \n",
       "2  2020-12-30  3.0      74.6  156.0   87.0  162.0    1019.5          8.5   \n",
       "3  2020-12-31  3.0      72.5    NaN    NaN  176.0    1019.5          7.0   \n",
       "4  2021-01-01  3.0      68.5  164.0  104.0  178.0    1020.0         10.5   \n",
       "\n",
       "   wind-speed  \n",
       "0         1.5  \n",
       "1         1.5  \n",
       "2         1.0  \n",
       "3         1.5  \n",
       "4         1.0  "
      ]
     },
     "execution_count": 17,
     "metadata": {},
     "output_type": "execute_result"
    }
   ],
   "source": [
    "ktm_df[0].head()"
   ]
  }
 ],
 "metadata": {
  "kernelspec": {
   "display_name": ".venv",
   "language": "python",
   "name": "python3"
  },
  "language_info": {
   "codemirror_mode": {
    "name": "ipython",
    "version": 3
   },
   "file_extension": ".py",
   "mimetype": "text/x-python",
   "name": "python",
   "nbconvert_exporter": "python",
   "pygments_lexer": "ipython3",
   "version": "3.13.1"
  }
 },
 "nbformat": 4,
 "nbformat_minor": 2
}
