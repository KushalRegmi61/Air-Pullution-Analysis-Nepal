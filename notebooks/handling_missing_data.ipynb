{
 "cells": [
  {
   "cell_type": "code",
   "execution_count": 1,
   "metadata": {},
   "outputs": [],
   "source": [
    "import pandas as pd\n",
    "import numpy as np\n",
    "import matplotlib.pyplot as plt\n",
    "import seaborn as sns\n"
   ]
  },
  {
   "cell_type": "code",
   "execution_count": 44,
   "metadata": {},
   "outputs": [],
   "source": [
    "# dropping the wind-gust columns from all the databases\n",
    "def drop_wind_gust(dfs):\n",
    "    for df in dfs:\n",
    "        df.drop(columns=['wind-gust'], inplace=True)\n",
    "    return dfs\n"
   ]
  },
  {
   "cell_type": "code",
   "execution_count": 46,
   "metadata": {},
   "outputs": [],
   "source": [
    "ktm_df =[]\n",
    "# reading all the Kathmandu databases\n",
    "for i in range(2021, 2025):\n",
    "    ktm_df.append(pd.read_csv(f'../year_{i}/Kathmandu_{i}.csv'))\n",
    "    \n",
    "ktm_df = drop_wind_gust(ktm_df)"
   ]
  },
  {
   "cell_type": "code",
   "execution_count": null,
   "metadata": {},
   "outputs": [],
   "source": [
    "# saving the cleaned data\n",
    "for i in range(2021, 2025):\n",
    "    ktm_df[i-2021].to_csv(f'../year_{i}/Kathmandu_{i}.csv', index=False)"
   ]
  }
 ],
 "metadata": {
  "kernelspec": {
   "display_name": ".venv",
   "language": "python",
   "name": "python3"
  },
  "language_info": {
   "codemirror_mode": {
    "name": "ipython",
    "version": 3
   },
   "file_extension": ".py",
   "mimetype": "text/x-python",
   "name": "python",
   "nbconvert_exporter": "python",
   "pygments_lexer": "ipython3",
   "version": "3.13.1"
  }
 },
 "nbformat": 4,
 "nbformat_minor": 2
}
